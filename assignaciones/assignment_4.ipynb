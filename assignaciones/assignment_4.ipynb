{
 "cells": [
  {
   "cell_type": "markdown",
   "id": "6974964c",
   "metadata": {},
   "source": [
    "# Clasificación de Piso en el Dataset UJIIndoorLoc\n",
    "\n",
    "## Introducción\n",
    "\n",
    "En este notebook se implementa un flujo completo de procesamiento y análisis para la clasificación del **piso** en un entorno interior utilizando el dataset **UJIIndoorLoc**. Este conjunto de datos contiene mediciones de señales WiFi recopiladas en distintas ubicaciones de un edificio, con información sobre coordenadas, piso, usuario, hora, entre otros.\n",
    "\n",
    "En esta tarea nos enfocaremos en predecir el **piso** en el que se encuentra un dispositivo, considerando únicamente las muestras etiquetadas con valores válidos para dicha variable. Se tratará como un problema de clasificación multiclase (planta baja, primer piso, segundo piso).\n",
    "\n",
    "## Objetivos\n",
    "\n",
    "- **Cargar y explorar** el conjunto de datos UJIIndoorLoc.\n",
    "- **Preparar** los datos seleccionando las características relevantes y el target (`FLOOR`).\n",
    "- **Dividir** el dataset en entrenamiento y validación (80/20).\n",
    "- **Entrenar y optimizar** clasificadores basados en seis algoritmos:\n",
    "  - K-Nearest Neighbors (KNN)\n",
    "  - Gaussian Naive Bayes\n",
    "  - Regresión Logística\n",
    "  - Árboles de Decisión\n",
    "  - Support Vector Machines (SVM)\n",
    "  - Random Forest\n",
    "- **Seleccionar hiperparámetros óptimos** para cada modelo utilizando validación cruzada (5-fold), empleando estrategias como **Grid Search**, **Randomized Search**, o **Bayesian Optimization** según el algoritmo.\n",
    "- **Comparar el desempeño** de los modelos sobre el conjunto de validación, usando métricas como *accuracy*, *precision*, *recall*, y *F1-score*.\n",
    "- **Determinar el mejor clasificador** para esta tarea, junto con sus hiperparámetros óptimos.\n",
    "\n",
    "Este ejercicio permite no solo evaluar la capacidad predictiva de distintos algoritmos clásicos de clasificación, sino también desarrollar buenas prácticas en validación de modelos y selección de hiperparámetros en contextos del mundo real.\n",
    "---"
   ]
  },
  {
   "cell_type": "markdown",
   "id": "253ad8d2",
   "metadata": {
    "vscode": {
     "languageId": "plaintext"
    }
   },
   "source": [
    "## Descripción del Dataset\n",
    "\n",
    "El dataset utilizado en este análisis es el **UJIIndoorLoc Dataset**, ampliamente utilizado para tareas de localización en interiores a partir de señales WiFi. Está disponible públicamente en la UCI Machine Learning Repository y ha sido recopilado en un entorno real de un edificio universitario.\n",
    "\n",
    "Cada muestra corresponde a una observación realizada por un dispositivo móvil, donde se registran las intensidades de señal (RSSI) de más de 500 puntos de acceso WiFi disponibles en el entorno. Además, cada fila contiene información contextual como la ubicación real del dispositivo (coordenadas X e Y), el piso, el edificio, el identificador del usuario, y la marca temporal.\n",
    "\n",
    "El objetivo en esta tarea es predecir el **piso** (`FLOOR`) en el que se encontraba el dispositivo en el momento de la medición, considerando únicamente las características numéricas provenientes de las señales WiFi.\n",
    "\n",
    "### Estructura del dataset\n",
    "\n",
    "- **Número de muestras**: ~20,000\n",
    "- **Número de características**: 520\n",
    "  - 520 columnas con valores de intensidad de señal WiFi (`WAP001` a `WAP520`)\n",
    "- **Variable objetivo**: `FLOOR` (variable categórica con múltiples clases, usualmente entre 0 y 4)\n",
    "\n",
    "### Columnas relevantes\n",
    "\n",
    "- `WAP001`, `WAP002`, ..., `WAP520`: niveles de señal recibida desde cada punto de acceso WiFi (valores entre -104 y 0, o 100 si no se detectó).\n",
    "- `FLOOR`: clase objetivo a predecir (nivel del edificio).\n",
    "- (Otras columnas como `BUILDINGID`, `SPACEID`, `USERID`, `TIMESTAMP`, etc., pueden ser ignoradas o utilizadas en análisis complementarios).\n",
    "\n",
    "### Contexto del problema\n",
    "\n",
    "La localización en interiores es un problema complejo en el que tecnologías como el GPS no funcionan adecuadamente. Los sistemas basados en WiFi han demostrado ser una alternativa efectiva para estimar la ubicación de usuarios en edificios. Poder predecir automáticamente el piso en el que se encuentra una persona puede mejorar aplicaciones de navegación en interiores, accesibilidad, gestión de emergencias y servicios personalizados. Este tipo de problemas es típicamente abordado mediante algoritmos de clasificación multiclase.\n",
    "\n",
    "---\n"
   ]
  },
  {
   "cell_type": "markdown",
   "id": "0b4b8e4d",
   "metadata": {},
   "source": [
    "## Paso 1: Cargar y explorar el dataset\n",
    "\n",
    "**Instrucciones:**\n",
    "- Descarga el dataset **UJIIndoorLoc** desde la UCI Machine Learning Repository o utiliza la versión proporcionada en el repositorio del curso (por ejemplo: `datasets/UJIIndoorLoc/trainingData.csv`).\n",
    "- Carga el dataset utilizando `pandas`.\n",
    "- Muestra las primeras filas del dataset utilizando `df.head()`.\n",
    "- Imprime el número total de muestras (filas) y características (columnas).\n",
    "- Verifica cuántas clases distintas hay en la variable objetivo `FLOOR` y cuántas muestras tiene cada clase (`df['FLOOR'].value_counts()`).\n"
   ]
  },
  {
   "cell_type": "code",
   "execution_count": null,
   "id": "2d27f8d5",
   "metadata": {},
   "outputs": [],
   "source": [
    "# tu código aquí"
   ]
  },
  {
   "cell_type": "markdown",
   "id": "2e2f0bed",
   "metadata": {},
   "source": [
    "---\n",
    "\n",
    "## Paso 2: Preparar los datos\n",
    "\n",
    "**Instrucciones:**\n",
    "\n",
    "- Elimina las columnas que no son relevantes para la tarea de clasificación del piso:\n",
    "  - `LONGITUDE`, `LATITUDE`, `SPACEID`, `RELATIVEPOSITION`, `USERID`, `PHONEID`, `TIMESTAMP`\n",
    "- Conserva únicamente:\n",
    "  - Las columnas `WAP001` a `WAP520` como características (RSSI de puntos de acceso WiFi).\n",
    "  - La columna `FLOOR` como variable objetivo.\n",
    "- Verifica si existen valores atípicos o valores inválidos en las señales WiFi (por ejemplo: valores constantes como 100 o -110 que suelen indicar ausencia de señal).\n",
    "- Separa el conjunto de datos en:\n",
    "  - `X`: matriz de características (todas las columnas `WAP`)\n",
    "  - `y`: vector objetivo (`FLOOR`)\n"
   ]
  },
  {
   "cell_type": "code",
   "execution_count": null,
   "id": "9f0eec3c",
   "metadata": {},
   "outputs": [],
   "source": [
    "# tu código aquí"
   ]
  },
  {
   "cell_type": "markdown",
   "id": "3e8a6c39",
   "metadata": {},
   "source": [
    "--- \n",
    "\n",
    "## Paso 3: Preprocesamiento de las señales WiFi\n",
    "\n",
    "**Contexto:**\n",
    "\n",
    "Las columnas `WAP001` a `WAP520` representan la intensidad de la señal (RSSI) recibida desde distintos puntos de acceso WiFi. Los valores típicos de RSSI están en una escala negativa, donde:\n",
    "\n",
    "- Valores cercanos a **0 dBm** indican señal fuerte.\n",
    "- Valores cercanos a **-100 dBm** indican señal débil o casi ausente.\n",
    "- Un valor de **100** en este dataset representa una señal **no detectada**, es decir, el punto de acceso no fue visto por el dispositivo en ese instante.\n",
    "\n",
    "**Instrucciones:**\n",
    "\n",
    "- Para facilitar el procesamiento y tratar la ausencia de señal de forma coherente, se recomienda mapear todos los valores **100** a **-100**, que semánticamente representa *ausencia de señal detectable*.\n",
    "- Esto unifica el rango de valores y evita que 100 (un valor artificial) afecte negativamente la escala de los algoritmos.\n",
    "\n",
    "**Pasos sugeridos:**\n",
    "\n",
    "- Reemplaza todos los valores `100` por `-100` en las columnas `WAP001` a `WAP520`:\n",
    "  ```python\n",
    "  X[X == 100] = -100\n"
   ]
  },
  {
   "cell_type": "code",
   "execution_count": null,
   "id": "61fa6fe3",
   "metadata": {},
   "outputs": [],
   "source": [
    "# tu código aquí"
   ]
  },
  {
   "cell_type": "markdown",
   "id": "80383336",
   "metadata": {},
   "source": [
    "--- \n",
    "\n",
    "## Paso 4: Entrenamiento y optimización de hiperparámetros\n",
    "\n",
    "**Objetivo:**\n",
    "\n",
    "Entrenar y comparar distintos clasificadores para predecir correctamente el piso (`FLOOR`) y encontrar los mejores hiperparámetros para cada uno mediante validación cruzada.\n",
    "\n",
    "**Clasificadores a evaluar:**\n",
    "\n",
    "- K-Nearest Neighbors (KNN)\n",
    "- Gaussian Naive Bayes\n",
    "- Regresión Logística\n",
    "- Árboles de Decisión\n",
    "- Support Vector Machines (SVM)\n",
    "- Random Forest\n",
    "\n",
    "**Procedimiento:**\n",
    "\n",
    "1. Divide el dataset en conjunto de **entrenamiento** (80%) y **validación** (20%) usando `train_test_split` con `stratify=y`.\n",
    "2. Para cada clasificador:\n",
    "   - Define el espacio de búsqueda de hiperparámetros.\n",
    "   - Usa **validación cruzada 5-fold** sobre el conjunto de entrenamiento para seleccionar los mejores hiperparámetros.\n",
    "   - Emplea una estrategia de búsqueda adecuada:\n",
    "     - **GridSearchCV**: búsqueda exhaustiva (ideal para espacios pequeños).\n",
    "     - **RandomizedSearchCV**: búsqueda aleatoria (más eficiente con espacios amplios).\n",
    "     - **Bayesian Optimization** (opcional): para búsquedas más inteligentes, usando librerías como `optuna` o `skopt`.\n",
    "3. Guarda el mejor modelo encontrado para cada clasificador con su configuración óptima.\n",
    "\n",
    "---"
   ]
  },
  {
   "cell_type": "code",
   "execution_count": null,
   "id": "f87cd1be",
   "metadata": {},
   "outputs": [],
   "source": [
    "# create the training and validation sets"
   ]
  },
  {
   "cell_type": "code",
   "execution_count": null,
   "id": "850e98ec",
   "metadata": {},
   "outputs": [],
   "source": [
    "# train and optimize KNN"
   ]
  },
  {
   "cell_type": "code",
   "execution_count": null,
   "id": "34cc6ca0",
   "metadata": {},
   "outputs": [],
   "source": [
    "# train and optimize Gaussian Naive Bayes"
   ]
  },
  {
   "cell_type": "code",
   "execution_count": null,
   "id": "da7bc6f7",
   "metadata": {},
   "outputs": [],
   "source": [
    "# train and optimize Logistic Regression"
   ]
  },
  {
   "cell_type": "code",
   "execution_count": null,
   "id": "f1fca347",
   "metadata": {},
   "outputs": [],
   "source": [
    "# train and optimize decision tree"
   ]
  },
  {
   "cell_type": "code",
   "execution_count": null,
   "id": "5cdbe3e3",
   "metadata": {},
   "outputs": [],
   "source": [
    "# train and optimize Support Vector Machine"
   ]
  },
  {
   "cell_type": "code",
   "execution_count": null,
   "id": "38458a23",
   "metadata": {},
   "outputs": [],
   "source": [
    "# train and optimize Random Forest"
   ]
  },
  {
   "cell_type": "markdown",
   "id": "64de7a7c",
   "metadata": {},
   "source": [
    "## Paso 5: Crear una tabla resumen de los mejores modelos\n",
    "\n",
    "**Instrucciones:**\n",
    "\n",
    "Después de entrenar y optimizar todos los clasificadores, debes construir una **tabla resumen en formato Markdown** que incluya:\n",
    "\n",
    "- El **nombre del modelo**\n",
    "- Los **hiperparámetros óptimos** encontrados mediante validación cruzada\n",
    "\n",
    "### Requisitos:\n",
    "\n",
    "- La tabla debe estar escrita en formato **Markdown**.\n",
    "- Cada fila debe corresponder a uno de los modelos evaluados.\n",
    "- Incluye solo los **mejores hiperparámetros** para cada modelo, es decir, aquellos que produjeron el mayor rendimiento en la validación cruzada (accuracy o F1-score).\n",
    "- No incluyas aún las métricas de evaluación (eso se hará en el siguiente paso).\n",
    "\n",
    "### Ejemplo de formato:\n",
    "\n",
    "```markdown\n",
    "| Modelo                 | Hiperparámetros óptimos                             |\n",
    "|------------------------|-----------------------------------------------------|\n",
    "| KNN                    | n_neighbors=5, weights='distance'                  |\n",
    "| Gaussian Naive Bayes   | var_smoothing=1e-9 (por defecto)                   |\n",
    "| Regresión Logística    | C=1.0, solver='lbfgs'                               |\n",
    "| Árbol de Decisión      | max_depth=10, criterion='entropy'                  |\n",
    "| SVM                    | C=10, kernel='rbf', gamma='scale'                  |\n",
    "| Random Forest          | n_estimators=200, max_depth=20                     |\n"
   ]
  },
  {
   "cell_type": "markdown",
   "id": "5db06abe",
   "metadata": {},
   "source": [
    "# tu tabla de resultados aquí"
   ]
  },
  {
   "cell_type": "markdown",
   "id": "bc8951e6",
   "metadata": {},
   "source": [
    "---\n",
    "\n",
    "## Paso 6: Preparar los datos finales para evaluación\n",
    "\n",
    "**Objetivo:**\n",
    "Cargar el dataset de entrenamiento y prueba, limpiar las columnas innecesarias, ajustar los valores de señal, y dejar los datos listos para probar los modelos entrenados.\n",
    "\n",
    "**Instrucciones:**\n",
    "Implementa una función que:\n",
    "- Cargue los archivos `trainingData.csv` y `validationData.csv`\n",
    "- Elimine las columnas irrelevantes (`LONGITUDE`, `LATITUDE`, `SPACEID`, `RELATIVEPOSITION`, `USERID`, `PHONEID`, `TIMESTAMP`)\n",
    "- Reemplace los valores `100` por `-100` en las columnas `WAP001` a `WAP520`\n",
    "- Separe las características (`X`) y la variable objetivo (`FLOOR`)\n",
    "- Devuelva los conjuntos `X_train`, `X_test`, `y_train`, `y_test`"
   ]
  },
  {
   "cell_type": "code",
   "execution_count": null,
   "id": "a2519692",
   "metadata": {},
   "outputs": [],
   "source": [
    "# tu código aquí"
   ]
  },
  {
   "cell_type": "markdown",
   "id": "a1e1611e",
   "metadata": {},
   "source": [
    "---\n",
    "\n",
    "## Paso 7: Evaluar modelos optimizados en el conjunto de prueba\n",
    "\n",
    "**Objetivo:**\n",
    "Evaluar el rendimiento real de los modelos optimizados usando el conjunto de prueba (`X_test`, `y_test`), previamente separado. Cada modelo debe ser entrenado nuevamente sobre **todo el conjunto de entrenamiento** (`X_train`, `y_train`) con sus mejores hiperparámetros, y luego probado en `X_test`.\n",
    "\n",
    "**Instrucciones:**\n",
    "\n",
    "1. Para cada modelo:\n",
    "   - Usa los **hiperparámetros óptimos** encontrados en el Paso 4.\n",
    "   - Entrena el modelo con `X_train` y `y_train`.\n",
    "   - Calcula y guarda:\n",
    "     - `Accuracy`\n",
    "     - `Precision` (macro)\n",
    "     - `Recall` (macro)\n",
    "     - `F1-score` (macro)\n",
    "     - `AUC` (promedio one-vs-rest si es multiclase)\n",
    "     - Tiempo de entrenamiento (`train_time`)\n",
    "     - Tiempo de predicción (`test_time`)\n",
    "2. Muestra todos los resultados en una **tabla comparativa**\n"
   ]
  },
  {
   "cell_type": "code",
   "execution_count": null,
   "id": "10347fe7",
   "metadata": {},
   "outputs": [],
   "source": [
    "# tu código aquí"
   ]
  },
  {
   "cell_type": "markdown",
   "id": "efcf813b",
   "metadata": {},
   "source": [
    "---\n",
    "## Paso 8: Selección y justificación del mejor modelo\n",
    "\n",
    "**Objetivo:**\n",
    "Analizar los resultados obtenidos en el paso anterior y **emitir una conclusión razonada** sobre cuál de los modelos evaluados es el más adecuado para la tarea de predicción del piso en el dataset UJIIndoorLoc.\n",
    "\n",
    "**Instrucciones:**\n",
    "\n",
    "- Observa la tabla comparativa del Paso 7 y responde:\n",
    "  - ¿Qué modelo obtuvo el **mejor rendimiento general** en términos de **accuracy** y **F1-score**?\n",
    "  - ¿Qué tan consistente fue su rendimiento en **precision** y **recall**?\n",
    "  - ¿Tiene un **tiempo de entrenamiento o inferencia** excesivamente alto?\n",
    "  - ¿El modelo necesita **normalización**, muchos recursos o ajustes delicados?\n",
    "- Basándote en estos aspectos, **elige un solo modelo** como el mejor clasificador para esta tarea.\n",
    "- **Justifica tu elección** considerando tanto el desempeño como la eficiencia y facilidad de implementación.\n"
   ]
  },
  {
   "cell_type": "code",
   "execution_count": null,
   "id": "e011d548",
   "metadata": {},
   "outputs": [],
   "source": [
    "# asigna un puntaje ponderado a cada parte del proceso. Crea una tabla con la rubrica de cuanto vale cada parte."
   ]
  }
 ],
 "metadata": {
  "kernelspec": {
   "display_name": "base",
   "language": "python",
   "name": "python3"
  },
  "language_info": {
   "name": "python",
   "version": "3.12.4"
  }
 },
 "nbformat": 4,
 "nbformat_minor": 5
}
