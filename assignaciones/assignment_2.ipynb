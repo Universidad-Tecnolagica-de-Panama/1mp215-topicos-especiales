{
 "cells": [
  {
   "cell_type": "markdown",
   "id": "cf5d2675",
   "metadata": {},
   "source": [
    "# Asignación 2: Análisis del Dataset de Predicción de Energía\n",
    "---"
   ]
  },
  {
   "cell_type": "markdown",
   "id": "167dc385",
   "metadata": {},
   "source": [
    "## Objetivos\n",
    "\n",
    "- Adquirir destrezas en la implementación y evaluación de algoritmos de regresión.\n",
    "- Aprender a graficar datos con Python\n",
    "- Estudiar la correlación entre las variables de un dataset utilizando la matriz de correlación de Pearson.\n",
    "- Poner en práctica técnicas de preprocesamiento como normalización y estandarización de datos.\n",
    "- Probar los modelos estudiados en clase (regresión lineal).\n",
    "- Utilizar métricas de evaluación de algoritmos de regresión (MSE, RMSE, MAE, R²).\n"
   ]
  },
  {
   "cell_type": "markdown",
   "id": "f94ecac1",
   "metadata": {},
   "source": [
    "## Preámbulo: el Appliances Energy Prediction dataset\n",
    "\n",
    "El dataset **Appliances Energy Prediction** está disponible en el repositorio de UCI (Universidad de California en Irvine) Machine Learning Repository. Este dataset está diseñado para tareas de predicción del consumo energético en electrodomésticos y contiene información detallada sobre diversas variables ambientales, meteorológicas y eléctricas. A continuación, se describe en detalle:\n",
    "\n",
    "### Descripción General\n",
    "El objetivo principal del dataset es predecir el consumo energético de electrodomésticos en función de múltiples variables independientes relacionadas con las condiciones ambientales, meteorológicas y del entorno interior de la vivienda. Este dataset es útil para problemas de **regresión** y **análisis de series temporales**.\n",
    "\n",
    "### Procedencia y Captura de Datos\n",
    "- **Ubicación geográfica**: Los datos fueron recolectados en una vivienda ubicada en Bélgica.\n",
    "\n",
    "- **Tecnología de captura**: Las mediciones internas (temperatura y humedad) se obtuvieron mediante sensores inalámbricos basados en tecnología ZigBee.\n",
    "\n",
    "- **Datos exteriores**: Las variables meteorológicas exteriores (temperatura, humedad, presión, visibilidad, etc.) fueron recolectadas desde una estación meteorológica ubicada en un aeropuerto cercano.\n",
    "\n",
    "### Características del Dataset\n",
    "- **Número de instancias:** 19,735 registros.\n",
    "- **Número de atributos:** 29 columnas en total (incluye variables predictoras, la variable objetivo y la marca temporal).\n",
    "- **Tipo de datos:** Datos numéricos y temporales.\n",
    "- **Periodo de recolección:** Datos recolectados cada 10 minutos durante un período de 4.5 meses.\n",
    "\n",
    "### Variables del Dataset\n",
    "1. **Date (Fecha):** Marca temporal de cada registro.\n",
    "2. **Appliances (Objetivo):** Energía consumida por los electrodomésticos (en Wh).\n",
    "3. **Lights:** Energía consumida por las luces (en Wh).\n",
    "\n",
    "4. **Variables ambientales interiores:**\n",
    "   - **T1 / RH_1:** Temperatura y humedad en la cocina.\n",
    "   - **T2 / RH_2:** Sala de estar.\n",
    "   - **T3 / RH_3:** Lavandería.\n",
    "   - **T4 / RH_4:** Oficina.\n",
    "   - **T5 / RH_5:** Baño.\n",
    "   - **T6 / RH_6:** Aire exterior cerca del edificio.\n",
    "   - **T7 / RH_7:** Cuarto de planchado.\n",
    "   - **T8 / RH_8:** Cuarto de adolescentes.\n",
    "   - **T9 / RH_9:** Habitación de los padres.\n",
    "\n",
    "5. **Variables meteorológicas y del entorno exterior:**\n",
    "   - **T_out:** Temperatura exterior (°C).\n",
    "   - **Press_mm_hg:** Presión atmosférica (mm Hg).\n",
    "   - **RH_out:** Humedad relativa exterior (%).\n",
    "   - **Windspeed:** Velocidad del viento (m/s).\n",
    "   - **Visibility:** Visibilidad (km).\n",
    "   - **Tdewpoint:** Punto de rocío (°C).\n",
    "\n",
    "6. **Variables aleatorias:**\n",
    "   - **rv1 y rv2:** Variables generadas aleatoriamente sin significado físico. Se incluyen como referencia para evaluar la capacidad del modelo de ignorar ruido irrelevante.\n",
    "\n",
    "### Propósito del Dataset\n",
    "El dataset está diseñado para:\n",
    "- Analizar patrones de consumo energético en electrodomésticos.\n",
    "- Predecir el consumo energético en función de las condiciones ambientales y del entorno.\n",
    "- Evaluar el impacto de variables internas y externas en el consumo energético residencial.\n",
    "\n",
    "### Aplicaciones\n",
    "- Modelos de regresión para predecir el consumo energético.\n",
    "- Análisis de series temporales para identificar tendencias y patrones.\n",
    "- Optimización del consumo energético en hogares inteligentes.\n",
    "\n",
    "### Notas Adicionales\n",
    "- El dataset **no contiene valores faltantes**, lo que lo hace ideal para enfocarse en la construcción y evaluación de modelos.\n",
    "- Las variables aleatorias `rv1` y `rv2` no tienen un significado físico directo, pero son útiles para probar la robustez de los modelos predictivos ante ruido estadístico.\n"
   ]
  },
  {
   "cell_type": "markdown",
   "id": "c92f34f5",
   "metadata": {},
   "source": [
    "---\n",
    "## Primera parte: Análisis inicial\n",
    "\n",
    "En esta sección se realizarán algunos de los análisis estadísticos iniciales que se aplican a cualquier dataset antes de comenzar con los modelos de machine learning.\n",
    "\n",
    "Como primer paso, cargue el dataset desde el archivo CSV ubicado en `datasets/appliances_energy_prediction_dataset/dataset.csv` y muestre las columnas disponibles junto con el tipo de dato de cada una."
   ]
  },
  {
   "cell_type": "code",
   "execution_count": 176,
   "id": "863005ed",
   "metadata": {},
   "outputs": [],
   "source": [
    "# Tu código aquí"
   ]
  },
  {
   "cell_type": "markdown",
   "id": "c15394a3",
   "metadata": {},
   "source": [
    "---\n",
    "\n",
    "Diseñe una función que reciba un DataFrame y retorne un diccionario que relacione los nombres originales de las columnas con sus equivalentes en español. Por ejemplo, `\"date\"` debe mapearse a `\"Fecha\"` y `\"Appliances\"` a `\"Consumo energético\"`.\n",
    "\n",
    "La función debe devolver, para cada columna:\n",
    "- Nombre original  \n",
    "- Nombre traducido  \n",
    "- Tipo de dato  \n",
    "- Unidad de medida  \n",
    "- Un dato de ejemplo\n",
    "\n",
    "Por ejemplo:\n",
    "\n",
    "```python\n",
    "[\n",
    "    {\n",
    "        'nombre_original': 'date',\n",
    "        'nombre_traducido': 'Fecha',\n",
    "        'tipo_dato': 'object',\n",
    "        'unidad': None,\n",
    "        'ejemplo': '2016-01-11 17:00:00'\n",
    "    },\n",
    "    {\n",
    "        'nombre_original': 'Appliances',\n",
    "        'nombre_traducido': 'Consumo energético',\n",
    "        'tipo_dato': 'int64',\n",
    "        'unidad': 'Wh',\n",
    "        'ejemplo': 60\n",
    "    }\n",
    "]\n",
    "\n"
   ]
  },
  {
   "cell_type": "code",
   "execution_count": 177,
   "id": "324e84f6",
   "metadata": {},
   "outputs": [],
   "source": [
    "# Tu código aquí"
   ]
  },
  {
   "cell_type": "markdown",
   "id": "0d67090c",
   "metadata": {},
   "source": [
    "---\n",
    "\n",
    "Utiliza la función creada para generar una tabla resumen del dataset, donde se visualicen claramente las características principales de cada columna.\n",
    "\n",
    "A continuación se muestra un ejemplo de cómo debería verse la tabla para las dos primeras columnas:\n",
    "\n",
    "| Nombre original | Nombre traducido    | Tipo de dato | Unidad | Ejemplo             |\n",
    "|-----------------|--------------------|--------------|--------|---------------------|\n",
    "| date            | Fecha              | object       |        | 2016-01-11 17:00:00 |\n",
    "| Appliances      | Consumo energético | int64        | Wh     | 60                  |\n",
    "\n",
    "Puedes construir esta tabla en Python convirtiendo la lista de diccionarios en un DataFrame y usando `display(tabla_resumen)` para visualizarla de forma ordenada."
   ]
  },
  {
   "cell_type": "code",
   "execution_count": 178,
   "id": "c16985e0",
   "metadata": {
    "vscode": {
     "languageId": "javascript"
    }
   },
   "outputs": [
    {
     "data": {
      "text/html": [
       "<div>\n",
       "<style scoped>\n",
       "    .dataframe tbody tr th:only-of-type {\n",
       "        vertical-align: middle;\n",
       "    }\n",
       "\n",
       "    .dataframe tbody tr th {\n",
       "        vertical-align: top;\n",
       "    }\n",
       "\n",
       "    .dataframe thead th {\n",
       "        text-align: right;\n",
       "    }\n",
       "</style>\n",
       "<table border=\"1\" class=\"dataframe\">\n",
       "  <thead>\n",
       "    <tr style=\"text-align: right;\">\n",
       "      <th></th>\n",
       "      <th>Nombre original</th>\n",
       "      <th>Nombre traducido</th>\n",
       "      <th>Tipo de Dato</th>\n",
       "      <th>Unidad</th>\n",
       "      <th>Ejemplo</th>\n",
       "    </tr>\n",
       "  </thead>\n",
       "  <tbody>\n",
       "    <tr>\n",
       "      <th>0</th>\n",
       "      <td>date</td>\n",
       "      <td>Fecha</td>\n",
       "      <td>object</td>\n",
       "      <td>None</td>\n",
       "      <td>2016-01-11 17:00:00</td>\n",
       "    </tr>\n",
       "    <tr>\n",
       "      <th>1</th>\n",
       "      <td>Appliances</td>\n",
       "      <td>Consumo energético</td>\n",
       "      <td>int64</td>\n",
       "      <td>Wh</td>\n",
       "      <td>60</td>\n",
       "    </tr>\n",
       "  </tbody>\n",
       "</table>\n",
       "</div>"
      ],
      "text/plain": [
       "  Nombre original    Nombre traducido Tipo de Dato Unidad              Ejemplo\n",
       "0            date               Fecha       object   None  2016-01-11 17:00:00\n",
       "1      Appliances  Consumo energético        int64     Wh                   60"
      ]
     },
     "metadata": {},
     "output_type": "display_data"
    }
   ],
   "source": [
    "resumen = pd.DataFrame([\n",
    "    {\n",
    "        'Nombre original': 'date',\n",
    "        'Nombre traducido': 'Fecha',\n",
    "        'Tipo de Dato': 'object',\n",
    "        'Unidad': None,\n",
    "        'Ejemplo': '2016-01-11 17:00:00'\n",
    "    },\n",
    "    {\n",
    "        'Nombre original': 'Appliances',\n",
    "        'Nombre traducido': 'Consumo energético',\n",
    "        'Tipo de Dato': 'int64',\n",
    "        'Unidad': 'Wh',\n",
    "        'Ejemplo': 60\n",
    "    }\n",
    "])\n",
    "\n",
    "display(resumen)"
   ]
  },
  {
   "cell_type": "markdown",
   "id": "fb35ac5e",
   "metadata": {},
   "source": [
    "---\n",
    "\n",
    "Ahora vamos a calcular las estadísticas descriptivas del dataset. \n",
    "\n",
    "Para cada columna numérica, debes calcular y mostrar:\n",
    "- Valor mínimo\n",
    "- Valor máximo\n",
    "- Media (mean)\n",
    "- Desviación estándar (stdev)\n",
    "\n",
    "Para la columna de fecha, solo reporta el valor mínimo y máximo, ya que la media y la desviación estándar no aplican.\n",
    "\n",
    "Presenta los resultados en una tabla con el siguiente formato:\n",
    "\n",
    "| Nombre traducido      | Unidad de medida | Valor mínimo              | Valor máximo              | Media      | Desviación estándar |\n",
    "|----------------------|------------------|---------------------------|---------------------------|------------|--------------------|\n",
    "| Fecha                |                  | 2016-01-11 17:00:00       | 2016-05-27 18:00:00       | -          | -                  |\n",
    "| Consumo energético   | Wh               | 10                        | 1080                      | 97.7       | 108.6              |\n",
    "| ...                  | ...              | ...                       | ...                       | ...        | ...                |\n",
    "\n",
    "**Instrucciones:**  \n",
    "- Utiliza la función que creaste anteriormente para obtener los nombres traducidos y las unidades de cada columna.\n",
    "- Usa los métodos de pandas (`min`, `max`, `mean`, `std`) para calcular las estadísticas de cada columna. Redondea cada valor a 1 posición decimal.\n",
    "- Construye la tabla como un DataFrame de pandas y muéstrala con `display`.\n",
    "\n",
    "Esto te permitirá comparar de manera clara y ordenada las características principales de cada variable del dataset."
   ]
  },
  {
   "cell_type": "code",
   "execution_count": 179,
   "id": "f077e759",
   "metadata": {},
   "outputs": [],
   "source": [
    "# Tu código aquí"
   ]
  },
  {
   "cell_type": "markdown",
   "id": "ef302b3a",
   "metadata": {},
   "source": [
    "---\n",
    "## Segunda parte: Análisis gráfico\n",
    "\n",
    "En el contexto de este estudio, la variable objetivo a predecir es **\"Appliances\"**, la cual representa el consumo energético total de la vivienda. El propósito fundamental será estimar este valor a partir del resto de las variables disponibles en el conjunto de datos.\n",
    "\n",
    "Antes de abordar la construcción de modelos predictivos, resulta esencial realizar una exploración visual del comportamiento tanto de la variable objetivo como de otras variables relevantes. Este análisis gráfico permite identificar tendencias, patrones, estacionalidades y posibles anomalías presentes en los datos, facilitando así una comprensión más profunda del fenómeno estudiado.\n",
    "\n",
    "Como primer paso, construya un gráfico que ilustre la evolución temporal de la variable **\"Appliances\"**. Adicionalmente, incluya en el mismo gráfico la variable **\"lights\"**, que indica el consumo energético asociado exclusivamente a las luces de la vivienda. Esta visualización comparativa permitirá analizar la relación y diferencias entre ambos consumos a lo largo del tiempo.\n",
    "\n",
    "> **Nota:** Para una presentación más clara y comprensible, los gráficos deben emplear los nombres traducidos de las variables, utilizando la función definida previamente."
   ]
  },
  {
   "cell_type": "code",
   "execution_count": 180,
   "id": "ef8accc1",
   "metadata": {},
   "outputs": [],
   "source": [
    "# Tu código aquí"
   ]
  },
  {
   "cell_type": "markdown",
   "id": "dbac6260",
   "metadata": {},
   "source": [
    "---\n",
    "El gráfico temporal anterior ofrece información valiosa, pero su escala dificulta la interpretación precisa de los patrones de consumo. Para mejorar el análisis, se recomienda visualizar los datos con una escala más adecuada y representativa.\n",
    "\n",
    "Construya un gráfico que muestre el consumo promedio por hora durante las 24 horas del día (desde las 00:00 hasta las 23:59). El gráfico debe incluir tanto el promedio horario de \"Consumo energético\" (Appliances) como el de \"Luces\" (lights), permitiendo comparar ambos perfiles de consumo. Además, se debe presentar la variación de cada variable mostrando la banda que abarca los valores mínimos y máximos observados en cada hora.\n",
    "\n",
    "Debido a que el consumo energético de las luces es significativamente menor que el consumo total de la vivienda, utilice dos escalas en el eje vertical: una para el consumo total y otra para el consumo de las luces.\n",
    "\n",
    "> Nota: Si el gráfico se construyó correctamente, se podrán identificar datos relevantes, como picos de consumo elevados al inicio del año (posiblemente asociados a temperaturas bajas y al uso de calefacción), así como dos periodos sin consumo (a finales de enero y principios de abril), lo que podría indicar la ausencia de los habitantes por viajes o vacaciones."
   ]
  },
  {
   "cell_type": "code",
   "execution_count": 181,
   "id": "c622a950",
   "metadata": {},
   "outputs": [],
   "source": [
    "# Tu código aquí"
   ]
  },
  {
   "cell_type": "markdown",
   "id": "e951718b",
   "metadata": {},
   "source": [
    "---\n",
    "Continuando con el análisis gráfico, en la siguiente celda se calcularán los promedios horarios del consumo tanto de energía total (Appliances) como de la iluminación (lights) para cada día de la semana. Se espera generar una visualización continua que abarque desde el inicio del lunes (00:00) hasta el fin del domingo (23:59) de modo que se evidencie el promedio de los patrones de consumo individuales por día. \n",
    "\n",
    "Se debe incluir leyendas y una diferenciación clara en los estilos o colores para facilitar la comparación de ambos perfiles."
   ]
  },
  {
   "cell_type": "code",
   "execution_count": 182,
   "id": "1c4e97ec",
   "metadata": {},
   "outputs": [],
   "source": [
    "# Tu código aquí"
   ]
  },
  {
   "cell_type": "markdown",
   "id": "0ec3f3a7",
   "metadata": {},
   "source": [
    "---\n",
    "Si el gráfico ha sido construido correctamente, debería observarse en ambos casos un comportamiento similar entre el consumo energético total de la vivienda y el consumo de las luces. \n",
    "\n",
    "Aunque el consumo de luces representa una fracción mínima en comparación con el resto del consumo del hogar, ambos muestran una tendencia paralela a lo largo del tiempo. Esto sugiere la posible existencia de una correlación positiva entre ambas variables, la cual puede validarse mediante el cálculo de la matriz de correlación de Pearson.\n",
    "\n",
    "A continuación, construya una función que:\n",
    "\n",
    "- Calcule la matriz de correlación de Pearson.\n",
    "\n",
    "- La visualice como una imagen dentro del notebook."
   ]
  },
  {
   "cell_type": "code",
   "execution_count": 183,
   "id": "12874451",
   "metadata": {},
   "outputs": [],
   "source": [
    "# Tu código aquí"
   ]
  },
  {
   "cell_type": "markdown",
   "id": "86e5f999",
   "metadata": {},
   "source": [
    "---\n",
    "## Tercera parte: Construcción de modelos predictivos\n",
    "\n",
    "En esta sección se construirá un modelo de regresión para predecir el consumo energético (**Consumo energético**) utilizando las variables disponibles en el dataset.\n",
    "\n",
    "### Instrucciones\n",
    "\n",
    "- Divide el dataset en dos conjuntos:\n",
    "  - **Entrenamiento:** datos anteriores al mes de mayo.\n",
    "  - **Prueba:** datos correspondientes al mes de mayo.\n",
    "\n",
    "Construye una función que cargue el dataset desde el archivo CSV y lo divida en x,y,x,y test train\n"
   ]
  },
  {
   "cell_type": "code",
   "execution_count": 184,
   "id": "4c308409",
   "metadata": {},
   "outputs": [],
   "source": [
    "# Tu código aquí"
   ]
  },
  {
   "cell_type": "markdown",
   "id": "b8bf32a4",
   "metadata": {},
   "source": [
    "---\n",
    "- Entrena ambos modelos con el conjunto de entrenamiento y evalúalos con el conjunto de prueba.\n",
    "- Calcula las siguientes métricas para cada modelo:\n",
    "  - Error cuadrático medio (**MSE**)\n",
    "  - Raíz del error cuadrático medio (**RMSE**)\n",
    "  - Error absoluto medio (**MAE**)\n",
    "  - Coeficiente de determinación (**R²**)\n",
    "- Presenta los resultados en una tabla comparativa para ambos regresores.\n"
   ]
  },
  {
   "cell_type": "code",
   "execution_count": 185,
   "id": "d02e0383",
   "metadata": {},
   "outputs": [],
   "source": [
    "# Tu código aquí"
   ]
  },
  {
   "cell_type": "markdown",
   "id": "9a6fbca4",
   "metadata": {},
   "source": [
    "---\n",
    "## Interpretación general de métricas en modelos de regresión\n",
    "\n",
    "Al evaluar un modelo de regresión, se utilizan varias métricas estadísticas que permiten cuantificar su rendimiento. Cada una ofrece una perspectiva distinta sobre la precisión del modelo y la magnitud de los errores cometidos en sus predicciones. Las principales métricas son:\n",
    "\n",
    "### 1. MSE (Error Cuadrático Medio – *Mean Squared Error*)\n",
    "Mide el promedio de los errores al cuadrado entre los valores predichos y los valores reales. Al elevar al cuadrado las diferencias, penaliza con mayor severidad los errores grandes.\n",
    "\n",
    "**Interpretación:** Cuanto más bajo sea el MSE, mejor será el desempeño del modelo. Sin embargo, su valor depende de la escala de la variable objetivo, por lo que no siempre es fácil de interpretar en términos absolutos.\n",
    "\n",
    "**Ejemplo:**  \n",
    "Si un modelo de predicción de consumo energético produce un MSE de 2500, esto significa que, en promedio, el error cuadrático entre los valores predichos y reales es 2500 unidades². Un modelo con MSE de 500 sería más preciso.\n",
    "\n",
    "### 2. RMSE (Raíz del Error Cuadrático Medio – *Root Mean Squared Error*)\n",
    "Es la raíz cuadrada del MSE. Esta métrica tiene la misma unidad que la variable objetivo, lo que facilita su interpretación práctica en el contexto del problema.\n",
    "\n",
    "**Interpretación:** Un RMSE bajo indica que el modelo comete errores pequeños en promedio. Es sensible a errores grandes, como el MSE, pero presenta los resultados en la escala original.\n",
    "\n",
    "**Ejemplo:**  \n",
    "Si el RMSE es de 50 en un modelo que predice el precio de productos en dólares, significa que el modelo se equivoca, en promedio, por unos 50 dólares.\n",
    "\n",
    "### 3. MAE (Error Absoluto Medio – *Mean Absolute Error*)\n",
    "Calcula el promedio de las diferencias absolutas entre las predicciones y los valores reales. No eleva los errores al cuadrado, por lo que es menos sensible a los valores atípicos que el MSE y el RMSE.\n",
    "\n",
    "**Interpretación:** Representa el error promedio esperado en cada predicción, lo cual es útil para comunicar el rendimiento del modelo en términos fácilmente comprensibles.\n",
    "\n",
    "**Ejemplo:**  \n",
    "Un MAE de 20 en un modelo que predice la temperatura diaria en °C indica que, en promedio, el modelo comete errores de ±20 grados. Si el RMSE en ese mismo modelo es mucho mayor que el MAE (por ejemplo, 50), es una señal de que existen algunos errores grandes que están distorsionando el RMSE.\n",
    "\n",
    "### 4. R² (Coeficiente de Determinación – *R-squared*)\n",
    "Indica qué proporción de la variabilidad total de la variable dependiente es explicada por el modelo. Puede tomar valores entre menos infinito y 1.\n",
    "\n",
    "**Interpretación:**  \n",
    "- R² = 1: el modelo predice perfectamente todos los valores.  \n",
    "- R² = 0: el modelo no mejora respecto a una predicción basada en el promedio de los valores reales.  \n",
    "- R² < 0: el modelo es peor que predecir el promedio para todos los casos.\n",
    "\n",
    "**Ejemplo:**  \n",
    "Un R² de 0.85 significa que el 85% de la varianza observada en los datos es explicada por el modelo. Un R² de 0.1, en cambio, sugiere que el modelo explica solo el 10% de la variabilidad, lo cual suele indicar un modelo pobre.\n",
    "\n",
    "---\n",
    "\n",
    "## Consideraciones adicionales\n",
    "\n",
    "- No existe una métrica universalmente superior. La elección de las métricas debe depender del contexto del problema, de la naturaleza de los datos y de los objetivos del análisis.\n",
    "- Para problemas donde los valores extremos son importantes (por ejemplo, en predicción de fallos o eventos raros), RMSE puede ser preferible por su sensibilidad a errores grandes.\n",
    "- En contextos donde se desea una evaluación más robusta frente a valores atípicos, MAE puede ofrecer una imagen más realista del rendimiento promedio.\n",
    "- Es recomendable comparar varias métricas en conjunto y usar también herramientas visuales como gráficos de dispersión entre valores reales y predichos, o análisis de residuos.\n",
    "\n"
   ]
  },
  {
   "cell_type": "markdown",
   "id": "202c02a8",
   "metadata": {},
   "source": [
    "---\n",
    "\n",
    "Visualiza gráficamente la comparación entre las predicciones del modelo de regresión lineal y los valores reales de la variable objetivo en el conjunto de prueba. \n",
    "\n",
    "Esta visualización te permitirá evaluar de manera intuitiva el desempeño del modelo: podrás observar si las predicciones siguen la tendencia de los valores reales, identificar posibles desviaciones y detectar patrones de error. \n",
    "\n",
    "Un buen modelo mostrará una alineación cercana entre ambas curvas; discrepancias notables pueden indicar áreas de mejora o la presencia de patrones no capturados por el modelo."
   ]
  },
  {
   "cell_type": "code",
   "execution_count": 186,
   "id": "7523395b",
   "metadata": {},
   "outputs": [],
   "source": [
    "# Tu código aquí"
   ]
  },
  {
   "cell_type": "markdown",
   "id": "f0f4d5c0",
   "metadata": {},
   "source": [
    "---\n",
    "\n",
    "Ahora aplica un proceso de normalización o estandarización a los datos antes de entrenar el modelo de regresión.\n",
    "\n",
    "- **Normalización** suele referirse a escalar los datos para que estén en un rango específico, por ejemplo entre 0 y 1.\n",
    "- **Estandarización** transforma las variables para que tengan media cero y desviación estándar uno.\n",
    "\n",
    "Ambos enfoques ayudan a que los modelos de machine learning sean menos sensibles a la escala de las variables y puedan aprender de manera más eficiente, especialmente cuando las variables tienen diferentes unidades o rangos de valores.\n",
    "\n",
    "**Pasos a seguir:**\n",
    "1. Aplica tanto la normalización (por ejemplo, MinMaxScaler) como la estandarización (StandardScaler) a las variables predictoras del conjunto de entrenamiento y utiliza la misma transformación en el conjunto de prueba.\n",
    "2. Entrena un modelo de regresión lineal con los datos normalizados y otro con los datos estandarizados.\n",
    "3. Evalúa el desempeño de ambos modelos utilizando las mismas métricas (MSE, RMSE, MAE, R²) y compáralos con el modelo sin preprocesamiento.\n",
    "4. Presenta los resultados en una tabla comparativa para visualizar el impacto de cada técnica de escalado.\n",
    "5. Visualiza gráficamente la comparación entre las predicciones de los modelos (normalizado y estandarizado) y los valores reales, para analizar si alguna técnica mejora el ajuste o la estabilidad del modelo.\n"
   ]
  },
  {
   "cell_type": "code",
   "execution_count": 187,
   "id": "808fc786",
   "metadata": {},
   "outputs": [],
   "source": [
    "# Tu código aquí"
   ]
  },
  {
   "cell_type": "markdown",
   "id": "875d3d65",
   "metadata": {},
   "source": [
    "---\n",
    "\n",
    "Imprime los coeficientes beta de cada uno de los features para analizar cómo contribuye cada variable a la predicción del consumo energético.\n",
    "\n",
    "En un modelo de regresión lineal múltiple, la predicción se expresa matemáticamente como:\n",
    "\n",
    "$$\n",
    "\\hat{y} = \\beta_0 + \\beta_1 x_1 + \\beta_2 x_2 + \\cdots + \\beta_p x_p\n",
    "$$\n",
    "\n",
    "donde:\n",
    "- $\\hat{y}$ es el valor predicho de la variable objetivo (Consumo energético).\n",
    "- $\\beta_0$ es el intercepto o término independiente.\n",
    "- $\\beta_i$ es el coeficiente asociado al feature $x_i$.\n",
    "- $x_i$ representa el valor de la variable $i$-ésima.\n",
    "\n",
    "Cada coeficiente beta ($\\beta_i$) indica cuánto varía la predicción de la variable objetivo ante un cambio unitario en el feature correspondiente, manteniendo los demás constantes. Un valor positivo implica que al aumentar el feature, la predicción también aumenta; un valor negativo implica lo contrario.\n",
    "\n",
    "Presenta los coeficientes en una tabla junto con el nombre original y traducido de cada feature, para facilitar la interpretación de la importancia y el sentido de cada variable en el modelo. Muestra los features mas importantes al inicio de la tabla y los menos importantes al final, utilizando los coeficientes de beta (normalizados) para ordenar los features de más importante a menos importante. "
   ]
  },
  {
   "cell_type": "code",
   "execution_count": 188,
   "id": "85fe5223",
   "metadata": {},
   "outputs": [],
   "source": [
    "# Tu código aquí"
   ]
  },
  {
   "cell_type": "markdown",
   "id": "46b52e2f",
   "metadata": {},
   "source": [
    "---\n",
    "\n",
    "Ahora realiza una comparación entre dos enfoques de modelado:\n",
    "\n",
    "1. Entrena un modelo de regresión lineal utilizando **todos los features** disponibles.\n",
    "2. Entrena un segundo modelo utilizando únicamente los **10 features más importantes** (según el ranking obtenido previamente).\n",
    "\n",
    "Utiliza la técnica de preprocesamiento (normalización, estandarización o valores crudos) que haya mostrado el mejor desempeño en las métricas de evaluación anteriores.\n",
    "\n",
    "**Pasos sugeridos:**\n",
    "- Selecciona los 10 features más relevantes según la importancia de los coeficientes beta o alguna métrica de selección de variables.\n",
    "- Aplica el mismo preprocesamiento a ambos conjuntos de features (todos y top 10).\n",
    "- Entrena y evalúa ambos modelos utilizando las métricas habituales (MSE, RMSE, MAE, R²).\n",
    "- Presenta los resultados en una tabla comparativa para analizar el impacto de la reducción de dimensionalidad en el rendimiento del modelo.\n",
    "\n",
    "Esta comparación te permitirá identificar si es posible obtener modelos más simples y eficientes sin sacrificar demasiada precisión."
   ]
  },
  {
   "cell_type": "code",
   "execution_count": 189,
   "id": "52eec6d4",
   "metadata": {},
   "outputs": [],
   "source": [
    "# Tu código aquí"
   ]
  },
  {
   "cell_type": "markdown",
   "id": "5ba02afc",
   "metadata": {},
   "source": [
    "---\n",
    "# Evaluación de conocimiento\n",
    "\n",
    "Responde cada pregunta en el renglón inmediato, de la forma más concisa posible. No uses respuestas extensas.\n",
    "\n",
    "\n",
    "\n",
    "1. ¿Qué variable predictora (feature) tiene el coeficiente beta más alto (positivo o negativo) en el modelo de regresión lineal? ¿Cómo interpretas su impacto en la predicción?"
   ]
  },
  {
   "cell_type": "markdown",
   "id": "abc15e1f",
   "metadata": {},
   "source": [
    "✍️ Respuesta aquí"
   ]
  },
  {
   "cell_type": "markdown",
   "id": "87d9e71a",
   "metadata": {},
   "source": [
    "2. ¿Cuál es el valor de R² obtenido por el modelo de regresión lineal con todos los features? ¿Consideras que el modelo explica bien la variabilidad de la variable objetivo?"
   ]
  },
  {
   "cell_type": "markdown",
   "id": "d65c862b",
   "metadata": {},
   "source": [
    "✍️ Respuesta aquí"
   ]
  },
  {
   "cell_type": "markdown",
   "id": "8a893def",
   "metadata": {},
   "source": [
    "3. Al comparar el modelo con todos los features y el modelo con solo los 10 features más importantes, ¿cómo cambian las métricas de desempeño (MSE, RMSE, MAE, R²)? ¿Qué conclusión puedes sacar sobre la reducción de dimensionalidad?"
   ]
  },
  {
   "cell_type": "markdown",
   "id": "15ddd8c6",
   "metadata": {},
   "source": [
    "✍️ Respuesta aquí"
   ]
  },
  {
   "cell_type": "markdown",
   "id": "dd017664",
   "metadata": {},
   "source": [
    "4. ¿Qué efecto tuvo la normalización o estandarización de los datos en el desempeño del modelo de regresión lineal? ¿Recomendarías aplicar estas técnicas en este caso?"
   ]
  },
  {
   "cell_type": "markdown",
   "id": "88b0402e",
   "metadata": {},
   "source": [
    "✍️ Respuesta aquí"
   ]
  },
  {
   "cell_type": "markdown",
   "id": "bdd323bc",
   "metadata": {},
   "source": [
    "5. Observando la matriz de correlación de Pearson, ¿qué variable(s) muestran mayor correlación positiva y negativa con el consumo energético? ¿Por qué crees que ocurre esto?"
   ]
  },
  {
   "cell_type": "markdown",
   "id": "092f9560",
   "metadata": {},
   "source": [
    "✍️ Respuesta aquí"
   ]
  },
  {
   "cell_type": "markdown",
   "id": "f2643c1a",
   "metadata": {},
   "source": [
    "6. ¿Las variables aleatorias (rv1, rv2) presentan algún coeficiente significativo o correlación relevante con la variable objetivo? ¿Qué indica esto sobre la robustez del modelo?"
   ]
  },
  {
   "cell_type": "markdown",
   "id": "69e2c73b",
   "metadata": {},
   "source": [
    "✍️ Respuesta aquí"
   ]
  },
  {
   "cell_type": "markdown",
   "id": "8220e9ae",
   "metadata": {},
   "source": [
    "7. Analizando los residuos (errores) del modelo de regresión lineal, ¿se observan patrones sistemáticos o aleatorios? ¿Qué implicaciones tiene esto para la validez del modelo?"
   ]
  },
  {
   "cell_type": "markdown",
   "id": "cbf8366c",
   "metadata": {},
   "source": [
    "✍️ Respuesta aquí"
   ]
  },
  {
   "cell_type": "markdown",
   "id": "f33899e2",
   "metadata": {},
   "source": [
    "8. ¿Cuál de las variables predictoras tiene mayor peso (coeficiente) en el modelo entrenado? ¿Cómo interpretas ese peso?"
   ]
  },
  {
   "cell_type": "markdown",
   "id": "e9f5d73c",
   "metadata": {},
   "source": [
    "✍️ Respuesta aquí"
   ]
  },
  {
   "cell_type": "markdown",
   "id": "dc54f214",
   "metadata": {},
   "source": [
    "9. Si tuvieras que seleccionar solo 3 features para un modelo simple, ¿cuáles elegirías y por qué? Justifica tu selección en base a los resultados obtenidos."
   ]
  },
  {
   "cell_type": "markdown",
   "id": "9c006044",
   "metadata": {},
   "source": [
    "✍️ Respuesta aquí"
   ]
  },
  {
   "cell_type": "markdown",
   "id": "2fc184d5",
   "metadata": {},
   "source": [
    "10. A partir de las métricas obtenidas, ¿consideras que el modelo de regresión lineal es adecuado para predecir el consumo energético (Appliances)? ¿Por qué?"
   ]
  },
  {
   "cell_type": "markdown",
   "id": "65b10478",
   "metadata": {},
   "source": [
    "✍️ Respuesta aquí"
   ]
  },
  {
   "cell_type": "markdown",
   "id": "25178658",
   "metadata": {},
   "source": [
    "---\n",
    "\n",
    "# Rúbrica de Evaluación – Asignación Semana 2\n",
    "\n",
    "**Total: 100 puntos**\n",
    "\n",
    "\n",
    "## 1. Carga y exploración inicial del dataset (15 puntos)\n",
    "- Carga correcta del dataset y visualización de tipos de datos (**3 puntos**)\n",
    "- Implementación de la función de traducción y tabla resumen completa (**6 puntos**)\n",
    "- Tabla de estadísticas descriptivas bien construida y clara (**6 puntos**)\n",
    "\n",
    "\n",
    "## 2. Análisis gráfico y exploratorio (15 puntos)\n",
    "- Gráfico temporal de consumo energético y luces, con nombres traducidos y ejes claros (**4 puntos**)\n",
    "- Gráfico de consumo promedio por hora con bandas de variación y doble eje (**4 puntos**)\n",
    "- Gráfico de consumo promedio continuo por día de la semana, con leyendas y diferenciación visual (**7 puntos**)\n",
    "\n",
    "\n",
    "## 3. Correlación y análisis de relaciones (15 puntos)\n",
    "- Cálculo correcto de la matriz de correlación de Pearson (**5 puntos**)\n",
    "- Visualización clara y legible de la matriz de correlación (**10 puntos**)\n",
    "\n",
    "\n",
    "## 4. Modelado predictivo y evaluación (35 puntos)\n",
    "- División correcta del dataset en entrenamiento y prueba según la fecha (**5 puntos**)\n",
    "- Entrenamiento y evaluación de modelos de regresión lineal (**8 puntos**)\n",
    "- Cálculo y presentación de métricas (MSE, RMSE, MAE, R²) en tablas comparativas (**6 puntos**)\n",
    "- Visualización de predicciones vs valores reales en el conjunto de prueba (**4 puntos**)\n",
    "- Implementación y comparación de normalización/estandarización en el desempeño del modelo (**4 puntos**)\n",
    "- Análisis y visualización de los coeficientes beta (**4 puntos**)\n",
    "- Comparación de desempeño entre todos los features y top 10 features, con tabla y análisis (**4 puntos**)\n",
    "\n",
    "\n",
    "## 5. Evaluación de conocimiento (20 puntos)\n",
    "- Respuestas a 10 preguntas basadas en los resultados del notebook (**2 puntos cada una**, total **20 puntos**)\n"
   ]
  }
 ],
 "metadata": {
  "kernelspec": {
   "display_name": "base",
   "language": "python",
   "name": "python3"
  },
  "language_info": {
   "codemirror_mode": {
    "name": "ipython",
    "version": 3
   },
   "file_extension": ".py",
   "mimetype": "text/x-python",
   "name": "python",
   "nbconvert_exporter": "python",
   "pygments_lexer": "ipython3",
   "version": "3.12.4"
  }
 },
 "nbformat": 4,
 "nbformat_minor": 5
}
