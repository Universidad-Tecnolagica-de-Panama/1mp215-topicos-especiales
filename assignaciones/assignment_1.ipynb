{
 "cells": [
  {
   "cell_type": "markdown",
   "id": "6eb08479",
   "metadata": {},
   "source": [
    "# Asignación 1: Implementando y Analizando KNN desde Cero"
   ]
  },
  {
   "cell_type": "markdown",
   "id": "197ddd5f",
   "metadata": {},
   "source": [
    "## Objetivo\n",
    "Familiarizarse con el algoritmo K-Nearest Neighbors (KNN) implementando una versión básica desde cero, comparando con la implementación de scikit-learn y analizando el impacto del parámetro **k**."
   ]
  },
  {
   "cell_type": "markdown",
   "id": "205e5f1f",
   "metadata": {},
   "source": [
    "## Preámbulo: **Pima Indian Diabetes Dataset**\n",
    "\n",
    "El **Pima Indian Diabetes Dataset** es un conjunto de datos clásico en Machine Learning y estadística, utilizado principalmente para problemas de clasificación binaria. Contiene información médica de mujeres de origen Pima (una población indígena de América del Norte) mayores de 21 años. Cada registro incluye variables como número de embarazos, concentración de glucosa en plasma, presión arterial, grosor del pliegue cutáneo, niveles de insulina, índice de masa corporal (IMC), función hereditaria de la diabetes y edad. El objetivo es predecir si una persona tiene o no diabetes (variable objetivo binaria).\n",
    "\n",
    "Un aspecto importante de este dataset es la presencia de valores faltantes, especialmente en variables como glucosa, presión arterial, grosor del pliegue cutáneo e insulina, donde valores igual a cero suelen indicar datos ausentes. Para esta asignación, se utilizará una versión limpia del dataset en la que se han eliminado los registros con valores faltantes, permitiendo así un análisis más directo y sin la necesidad de imputación de datos."
   ]
  },
  {
   "cell_type": "markdown",
   "id": "a5257473",
   "metadata": {},
   "source": [
    "## Paso 1: Cargar y explorar el dataset\n",
    "\n",
    "**Instrucciones:**\n",
    "- Descarga el dataset desde el repositorio de GitHub del curso. El archivo se encuentra en `datasets/pima_indian_diabetes_dataset/cleaned_dataset.csv`.\n",
    "- Carga el dataset utilizando pandas.\n",
    "- Muestra las primeras filas (`df.head()`) del dataset.\n",
    "- Imprime la cantidad total de filas y columnas del dataset."
   ]
  },
  {
   "cell_type": "code",
   "execution_count": 13,
   "id": "86bb59fa",
   "metadata": {},
   "outputs": [
    {
     "name": "stdout",
     "output_type": "stream",
     "text": [
      "   Pregnancies  Glucose  Blood Pressure  Skin Thickness  Insulin   BMI  \\\n",
      "0            2      108              62              32       56  25.2   \n",
      "1            0      137              68              14      148  24.8   \n",
      "2            1       89              66              23       94  28.1   \n",
      "3            0      139              62              17      210  22.1   \n",
      "4            4       99              76              15       51  23.2   \n",
      "\n",
      "   Diabetes Pedigree Function  Age  Outcome  \n",
      "0                       0.128   21        0  \n",
      "1                       0.143   21        0  \n",
      "2                       0.167   21        0  \n",
      "3                       0.207   21        0  \n",
      "4                       0.223   21        0  \n",
      "Filas: 392, Columnas: 9\n"
     ]
    }
   ],
   "source": [
    "import pandas as pd\n",
    "\n",
    "# Tu codigo aquí\n",
    "\n",
    "df = pd.read_csv('../datasets/pima_indian_diabetes_dataset/cleaned_dataset.csv')\n",
    "print(df.head())\n",
    "print(f\"Filas: {df.shape[0]}, Columnas: {df.shape[1]}\")"
   ]
  },
  {
   "cell_type": "markdown",
   "id": "aa1633b9",
   "metadata": {},
   "source": [
    "## Paso 2: Crear función para cargar y dividir el dataset\n",
    "\n",
    "**Instrucciones:**\n",
    "- Implementa una función en Python que:\n",
    "  - Cargue el dataset limpio desde la ruta especificada.\n",
    "  - Seleccione las primeras 10 muestras como conjunto de entrenamiento.\n",
    "  - Seleccione las siguientes 10 muestras como conjunto de prueba.\n",
    "  - Devuelva por separado: `X_train`, `y_train`, `X_test`, `y_test`."
   ]
  },
  {
   "cell_type": "code",
   "execution_count": 14,
   "id": "8cd24c62",
   "metadata": {},
   "outputs": [],
   "source": [
    "# Tu función aquí"
   ]
  },
  {
   "cell_type": "markdown",
   "id": "eaa9494c",
   "metadata": {},
   "source": [
    "## Paso 3: Implementar la función de distancia euclidiana\n",
    "\n",
    "**Instrucciones:**\n",
    "- Escribe una función en Python que reciba dos vectores y calcule la distancia euclidiana entre ellos.\n",
    "- Utiliza la siguiente fórmula matemática para la distancia euclidiana entre dos vectores $x$ y $y$ de $n$ dimensiones:\n",
    "\n",
    "$$\n",
    "d(x, y) = \\sqrt{\\sum_{i=1}^{n} (x_i - y_i)^2}\n",
    "$$\n",
    "\n",
    "- Prueba tu función con los siguientes dos ejemplos (cada vector corresponde a una fila del dataset):\n",
    "\n",
    "| Pregnancies | Glucose | Blood Pressure | Skin Thickness | Insulin | BMI  | Diabetes Pedigree Function | Age | Outcome |\n",
    "|-------------|---------|---------------|----------------|---------|------|----------------------------|-----|---------|\n",
    "|      1      |   106   |      70       |      28        |   135   | 34.2 |           0.142            | 22  |    0    |\n",
    "|      2      |   102   |      86       |      36        |   120   | 45.5 |           0.127            | 23  |    1    |\n",
    "\n",
    "- Calcula la distancia euclidiana a mano y luego verifica que el resultado de tu función sea el mismo.\n",
    "- La función debe imprimi el resultado del cálculo de la distancia euclidiana con los datos presentados."
   ]
  },
  {
   "cell_type": "code",
   "execution_count": 15,
   "id": "1607f738",
   "metadata": {},
   "outputs": [],
   "source": [
    "# Tu función aquí"
   ]
  },
  {
   "cell_type": "markdown",
   "id": "4124e762",
   "metadata": {},
   "source": [
    "## Paso 4: Implementar un clasificador KNN básico\n",
    "\n",
    "**Instrucciones:**\n",
    "- Escribe una función que, dado un punto de prueba, calcule la distancia a todos los puntos de entrenamiento utilizando tu función de distancia euclidiana.\n",
    "- Selecciona los **k = 3** vecinos más cercanos y predice la clase mayoritaria entre ellos.\n",
    "- Aplica tu función a las 10 muestras de prueba obtenidas previamente, utilizando las 10 muestras de entrenamiento como referencia.\n",
    "- El script debe imprimir una tabla comparando el valor real de `Outcome` de cada muestra de prueba con el valor predicho por tu algoritmo."
   ]
  },
  {
   "cell_type": "code",
   "execution_count": 16,
   "id": "c70f5f2b",
   "metadata": {},
   "outputs": [],
   "source": [
    "# Tu implementación básica de KNN aquí"
   ]
  },
  {
   "cell_type": "markdown",
   "id": "e41db18b",
   "metadata": {},
   "source": [
    "## Paso 5: Comparar con scikit-learn\n",
    "\n",
    "**Instrucciones:**\n",
    "- Utiliza `KNeighborsClassifier` de scikit-learn para entrenar y predecir sobre el mismo subconjunto de datos. Asegúrate de definir los hiperparámetros: `k=3`, distancia euclidiana y método de búsqueda fuerza bruta (`algorithm='brute'`).\n",
    "- Compara los resultados de tu implementación con los obtenidos por scikit-learn.\n",
    "- El script debe mostrar una tabla que compare el valor real de `Outcome` de cada muestra de prueba, el valor predicho por tu algoritmo y el valor predicho por scikit-learn."
   ]
  },
  {
   "cell_type": "code",
   "execution_count": 17,
   "id": "635f08c1",
   "metadata": {},
   "outputs": [],
   "source": [
    "# Tu código de comparación aquí"
   ]
  },
  {
   "cell_type": "markdown",
   "id": "6dc7437a",
   "metadata": {},
   "source": [
    "## Paso 6: Analizar el impacto de k\n",
    "\n",
    "**Instrucciones:**\n",
    "- Evalúa el desempeño de tu implementación personalizada para distintos valores de **k** (por ejemplo: 1, 3, 5, 7, 9).\n",
    "- Para cada valor de k, predice el `Outcome` de las muestras de prueba.\n",
    "- Construye una tabla que muestre, para cada muestra de prueba, el número de muestra, el valor real de `Outcome` y los valores predichos por tu algoritmo para cada valor de k. Por ejemplo:\n",
    "\n",
    "| Muestra | Outcome real | k=1 | k=3 | k=5 | k=7 | k=9 |\n",
    "|---------|--------------|-----|-----|-----|-----|-----|\n",
    "|    1    |      0       |  0  |  0  |  1  |  0  |  0  |\n",
    "|    2    |      1       |  1  |  1  |  0  |  1  |  1  |\n",
    "|    3    |      0       |  0  |  0  |  0  |  0  |  1  |\n",
    "|    4    |      1       |  1  |  0  |  1  |  1  |  1  |\n",
    "|    5    |      0       |  0  |  1  |  0  |  0  |  0  |\n",
    "|    6    |      1       |  1  |  1  |  1  |  1  |  1  |\n",
    "|    7    |      0       |  0  |  0  |  0  |  1  |  0  |\n",
    "|    8    |      1       |  1  |  1  |  1  |  1  |  1  |\n",
    "|    9    |      0       |  0  |  0  |  1  |  0  |  0  |\n",
    "|   10    |      1       |  1  |  1  |  1  |  1  |  1  |\n",
    "\n",
    "- Comenta brevemente los resultados obtenidos y analiza cómo varía el desempeño del modelo al modificar el valor de k."
   ]
  },
  {
   "cell_type": "code",
   "execution_count": 18,
   "id": "5c6314a4",
   "metadata": {},
   "outputs": [],
   "source": [
    "# Tu análisis aquí"
   ]
  }
 ],
 "metadata": {
  "kernelspec": {
   "display_name": "base",
   "language": "python",
   "name": "python3"
  },
  "language_info": {
   "codemirror_mode": {
    "name": "ipython",
    "version": 3
   },
   "file_extension": ".py",
   "mimetype": "text/x-python",
   "name": "python",
   "nbconvert_exporter": "python",
   "pygments_lexer": "ipython3",
   "version": "3.12.4"
  }
 },
 "nbformat": 4,
 "nbformat_minor": 5
}
